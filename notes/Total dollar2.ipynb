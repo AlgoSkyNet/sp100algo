{
 "cells": [
  {
   "cell_type": "code",
   "execution_count": 1,
   "metadata": {},
   "outputs": [],
   "source": [
    "from algo import logic"
   ]
  },
  {
   "cell_type": "code",
   "execution_count": 2,
   "metadata": {},
   "outputs": [],
   "source": [
    "symbols = logic.get_sp100()"
   ]
  },
  {
   "cell_type": "code",
   "execution_count": 3,
   "metadata": {},
   "outputs": [],
   "source": [
    "stockdata = logic.get_stockdata(symbols)"
   ]
  },
  {
   "cell_type": "code",
   "execution_count": 4,
   "metadata": {},
   "outputs": [],
   "source": [
    "closes = stockdata.T.close"
   ]
  },
  {
   "cell_type": "code",
   "execution_count": 5,
   "metadata": {},
   "outputs": [],
   "source": [
    "weights = stockdata.T.marketcap / stockdata.T.marketcap.sum()"
   ]
  },
  {
   "cell_type": "code",
   "execution_count": 6,
   "metadata": {},
   "outputs": [
    {
     "data": {
      "text/plain": [
       "BAC      1711.58\n",
       "GE       1966.56\n",
       "MSFT     2228.88\n",
       "T        2353.55\n",
       "PFE      2915.59\n",
       "AAPL     3538.67\n",
       "WFC       3548.8\n",
       "CSCO     3634.26\n",
       "INTC     3706.68\n",
       "CMCSA    3730.19\n",
       "KO       4018.77\n",
       "XOM      4036.91\n",
       "VZ       4136.44\n",
       "F        4288.18\n",
       "ORCL      4293.1\n",
       "JPM      5085.42\n",
       "WMT      5792.07\n",
       "FB       5919.71\n",
       "JNJ      6370.88\n",
       "MRK      6426.52\n",
       "C        6791.49\n",
       "PG       6869.54\n",
       "DWDP     7407.33\n",
       "V        7454.79\n",
       "KMI      7744.82\n",
       "CVX      8919.72\n",
       "MO       9066.27\n",
       "FOX      9225.92\n",
       "ABT      9742.53\n",
       "MS       9795.74\n",
       "          ...   \n",
       "DUK        23993\n",
       "CELG     24299.7\n",
       "DHR        24425\n",
       "GOOG     24568.1\n",
       "GOOGL    24568.1\n",
       "AMGN     26405.4\n",
       "ACN      26646.7\n",
       "EMR      27195.6\n",
       "NVDA     28157.3\n",
       "CAT      28757.8\n",
       "MMM      29135.9\n",
       "BA       29749.8\n",
       "TGT      32058.5\n",
       "AMZN     35042.2\n",
       "COF      35724.5\n",
       "NEE      36241.2\n",
       "COST     38968.1\n",
       "NFLX     39249.5\n",
       "GS       45268.8\n",
       "ALL      49364.3\n",
       "AGN      50351.4\n",
       "SPG      55273.4\n",
       "GD       57686.7\n",
       "RTN      59915.5\n",
       "LMT      60016.3\n",
       "FDX        64634\n",
       "CHTR     73713.5\n",
       "BIIB     84845.4\n",
       "BLK       106456\n",
       "BKNG      360033\n",
       "Length: 102, dtype: object"
      ]
     },
     "execution_count": 6,
     "metadata": {},
     "output_type": "execute_result"
    }
   ],
   "source": [
    "(closes / weights).sort_values()"
   ]
  },
  {
   "cell_type": "code",
   "execution_count": null,
   "metadata": {},
   "outputs": [],
   "source": []
  }
 ],
 "metadata": {
  "kernelspec": {
   "display_name": "Python 3",
   "language": "python",
   "name": "python3"
  },
  "language_info": {
   "codemirror_mode": {
    "name": "ipython",
    "version": 3
   },
   "file_extension": ".py",
   "mimetype": "text/x-python",
   "name": "python",
   "nbconvert_exporter": "python",
   "pygments_lexer": "ipython3",
   "version": "3.6.6"
  }
 },
 "nbformat": 4,
 "nbformat_minor": 2
}
